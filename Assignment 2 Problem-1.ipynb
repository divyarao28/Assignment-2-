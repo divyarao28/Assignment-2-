{
 "cells": [
  {
   "cell_type": "code",
   "execution_count": 3,
   "id": "29b0b93f",
   "metadata": {},
   "outputs": [],
   "source": [
    "def last(n):\n",
    "    return n[-1]\n",
    "    "
   ]
  },
  {
   "cell_type": "code",
   "execution_count": 4,
   "id": "79fd2c2c",
   "metadata": {},
   "outputs": [],
   "source": [
    "def sort(tuples):\n",
    "    return sorted(tuples,key=last)"
   ]
  },
  {
   "cell_type": "code",
   "execution_count": 6,
   "id": "fdd83928",
   "metadata": {},
   "outputs": [
    {
     "name": "stdout",
     "output_type": "stream",
     "text": [
      "Result\n",
      "[(2, 1), (1, 2), (2, 3), (4, 4), (2, 5)]\n"
     ]
    }
   ],
   "source": [
    "sample_list = [(2, 5), (1, 2), (4, 4), (2, 3), (2, 1)]\n",
    "print(\"Result\")\n",
    "print(sort(sample_list))"
   ]
  }
 ],
 "metadata": {
  "kernelspec": {
   "display_name": "Python 3 (ipykernel)",
   "language": "python",
   "name": "python3"
  },
  "language_info": {
   "codemirror_mode": {
    "name": "ipython",
    "version": 3
   },
   "file_extension": ".py",
   "mimetype": "text/x-python",
   "name": "python",
   "nbconvert_exporter": "python",
   "pygments_lexer": "ipython3",
   "version": "3.9.6"
  }
 },
 "nbformat": 4,
 "nbformat_minor": 5
}
